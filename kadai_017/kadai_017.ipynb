{
  "nbformat": 4,
  "nbformat_minor": 0,
  "metadata": {
    "colab": {
      "provenance": []
    },
    "kernelspec": {
      "name": "python3",
      "display_name": "Python 3"
    },
    "language_info": {
      "name": "python"
    }
  },
  "cells": [
    {
      "cell_type": "code",
      "execution_count": 18,
      "metadata": {
        "colab": {
          "base_uri": "https://localhost:8080/"
        },
        "id": "kJ_8YBiVTp2M",
        "outputId": "1de54734-4282-42fb-ffce-de2ec58232b1"
      },
      "outputs": [
        {
          "output_type": "stream",
          "name": "stdout",
          "text": [
            "太郎 ( 36 ) は、大人である\n",
            "次郎 ( 16 ) は、大人でない\n",
            "三郎 ( 20 ) は、大人である\n",
            "まさ ( 19 ) は、大人でない\n"
          ]
        }
      ],
      "source": [
        "class Human:\n",
        "  def __init__(self, name, age):\n",
        "    self.name = name\n",
        "    self.age = age\n",
        "\n",
        "  # check_adultメソッドを定義する\n",
        "  def check_adult(self):\n",
        "    if self.age >= 20:\n",
        "        print(self.name,\"(\",self.age,\")\",\"は、大人である\")\n",
        "    else:\n",
        "        print(self.name,\"(\",self.age,\")\",\"は、大人でない\")\n",
        "\n",
        "# Humanクラスのインスタンスを複数生成\n",
        "human1 = Human(\"太郎\", 36)\n",
        "human2 = Human(\"次郎\", 16)\n",
        "human3 = Human(\"三郎\", 20)\n",
        "human4 = Human(\"まさ\", 19)\n",
        "\n",
        "# 生成したインスタンスをリストに追加\n",
        "human_list = [human1, human2, human3 , human4]\n",
        "\n",
        "# リストの要素数分だけcheck_adultメソッドを呼び出す\n",
        "for human in human_list:\n",
        "    human.check_adult()"
      ]
    }
  ]
}