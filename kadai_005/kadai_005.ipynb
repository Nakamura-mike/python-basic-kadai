{
  "nbformat": 4,
  "nbformat_minor": 0,
  "metadata": {
    "colab": {
      "provenance": []
    },
    "kernelspec": {
      "name": "python3",
      "display_name": "Python 3"
    },
    "language_info": {
      "name": "python"
    }
  },
  "cells": [
    {
      "cell_type": "code",
      "source": [
        "upper_lengh = 10\n",
        "low_lengh = 20\n",
        "high_lengh = 5\n",
        "trapezoid_area = (upper_lengh + low_lengh) * high_lengh / 2\n",
        "print(str(trapezoid_area) + \"cm²\")\n"
      ],
      "metadata": {
        "colab": {
          "base_uri": "https://localhost:8080/"
        },
        "id": "4rBCJ1q2ThC7",
        "outputId": "21a15084-c27b-49de-ab7b-c58b85318c65"
      },
      "execution_count": 17,
      "outputs": [
        {
          "output_type": "stream",
          "name": "stdout",
          "text": [
            "75.0cm²\n"
          ]
        }
      ]
    }
  ]
}