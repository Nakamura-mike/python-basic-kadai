{
  "nbformat": 4,
  "nbformat_minor": 0,
  "metadata": {
    "colab": {
      "provenance": []
    },
    "kernelspec": {
      "name": "python3",
      "display_name": "Python 3"
    },
    "language_info": {
      "name": "python"
    }
  },
  "cells": [
    {
      "cell_type": "code",
      "source": [],
      "metadata": {
        "id": "TqiAjqo-WOR6"
      },
      "execution_count": null,
      "outputs": []
    },
    {
      "cell_type": "code",
      "source": [
        "def calculation_tax(price, tax_rate):\n",
        "    # 与えられた引数priceと引数tax_rateを元にした消費税を加算し、変数totalに代入する\n",
        "    total = price + price * tax_rate * 0.01\n",
        "\n",
        "    # 変数totalの値を戻り値にする\n",
        "    return total\n",
        "\n",
        "# 関数を呼び出し、引数として購入金額と消費税率（％）を渡す\n",
        "total_price = calculation_tax(110, 10)\n",
        "\n",
        "#消費税を加えた計算結果を返す関数を表示する\n",
        "print(f\"{total_price}円\")"
      ],
      "metadata": {
        "colab": {
          "base_uri": "https://localhost:8080/"
        },
        "id": "x2Cs3tFjUzfD",
        "outputId": "a5d9364e-4a23-48a0-b190-1e9f8c12e85d"
      },
      "execution_count": 36,
      "outputs": [
        {
          "output_type": "stream",
          "name": "stdout",
          "text": [
            "121.0円\n"
          ]
        }
      ]
    }
  ]
}