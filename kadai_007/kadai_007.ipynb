{
  "nbformat": 4,
  "nbformat_minor": 0,
  "metadata": {
    "colab": {
      "provenance": []
    },
    "kernelspec": {
      "name": "python3",
      "display_name": "Python 3"
    },
    "language_info": {
      "name": "python"
    }
  },
  "cells": [
    {
      "cell_type": "code",
      "source": [
        "array = [\"月曜日は晴れです\",\"火曜日は雨です\",\"水曜日は晴れです\",\"木曜日は晴れです\",\"金曜日は曇りです\",\"土曜日は曇りのち雨です\",\"日曜日は雷雨です\"]  #リスト\n",
        "dictionary = { \"mon\":\t\"晴れ\",\"tue\":\t\"雨\",\"wed\":\t\"晴れ\",\"thu\":\t\"晴れ\",\"fri\":\t\"曇り\",\"sat\":\t\"曇りのち雨\",\"sun\":\t\"雷雨\"}                               #ディクショナリ\n",
        "print(array[2])\n",
        "print(dictionary[\"wed\"])"
      ],
      "metadata": {
        "id": "7OVoSAfAyYpT",
        "outputId": "f0480233-046e-43cc-a69a-7108ed8043bd",
        "colab": {
          "base_uri": "https://localhost:8080/",
          "height": 0
        }
      },
      "execution_count": 23,
      "outputs": [
        {
          "output_type": "stream",
          "name": "stdout",
          "text": [
            "水曜日は晴れです\n",
            "晴れ\n"
          ]
        }
      ]
    }
  ]
}